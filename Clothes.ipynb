{
  "nbformat": 4,
  "nbformat_minor": 0,
  "metadata": {
    "colab": {
      "provenance": [],
      "include_colab_link": true
    },
    "kernelspec": {
      "name": "python3",
      "display_name": "Python 3"
    },
    "language_info": {
      "name": "python"
    }
  },
  "cells": [
    {
      "cell_type": "markdown",
      "metadata": {
        "id": "view-in-github",
        "colab_type": "text"
      },
      "source": [
        "<a href=\"https://colab.research.google.com/github/AldaCL/Deep-Learning-Notes/blob/main/Clothes.ipynb\" target=\"_parent\"><img src=\"https://colab.research.google.com/assets/colab-badge.svg\" alt=\"Open In Colab\"/></a>"
      ]
    },
    {
      "cell_type": "code",
      "execution_count": 1,
      "metadata": {
        "id": "IbpC9okjb0oI"
      },
      "outputs": [],
      "source": [
        "from torchvision import datasets\n",
        "from torchvision.transforms import ToTensor\n",
        "from torch.utils.data import DataLoader, Subset"
      ]
    },
    {
      "cell_type": "code",
      "source": [
        "import numpy as np\n",
        "import matplotlib.pyplot as plt\n"
      ],
      "metadata": {
        "id": "uxUwDmEXfrQB"
      },
      "execution_count": null,
      "outputs": []
    },
    {
      "cell_type": "code",
      "source": [
        "# download training data\n",
        "train_data = datasets.FashionMNIST(\n",
        "    root = 'data',\n",
        "    train = True,\n",
        "    transform = ToTensor(),\n",
        "    download = True,\n",
        "\n",
        ")\n",
        "\n",
        "#download test_data\n",
        "test_data = datasets.FashionMNIST(\n",
        "    root = 'data',\n",
        "    train = False,\n",
        "    transform = ToTensor(),\n",
        "    download = True\n",
        ")"
      ],
      "metadata": {
        "id": "YJmYdjgacdlA"
      },
      "execution_count": null,
      "outputs": []
    },
    {
      "cell_type": "code",
      "source": [
        "train_data.data.shape"
      ],
      "metadata": {
        "colab": {
          "base_uri": "https://localhost:8080/"
        },
        "id": "Za00SS9ElnMv",
        "outputId": "6c4304f1-64d0-4a44-d7d7-3f027b533c19"
      },
      "execution_count": null,
      "outputs": [
        {
          "output_type": "execute_result",
          "data": {
            "text/plain": [
              "torch.Size([60000, 28, 28])"
            ]
          },
          "metadata": {},
          "execution_count": 151
        }
      ]
    },
    {
      "cell_type": "code",
      "source": [
        "# Define the size of the subset\n",
        "subset_size = 100\n",
        "\n",
        "# Create a list of indices for the subset\n",
        "indices = list(range(subset_size))\n",
        "\n",
        "# Create the subset of the dataset\n",
        "subset = Subset(train_data, indices)\n"
      ],
      "metadata": {
        "id": "iAuBRCZLqGlp"
      },
      "execution_count": null,
      "outputs": []
    },
    {
      "cell_type": "code",
      "source": [
        "test_data.data.shape"
      ],
      "metadata": {
        "colab": {
          "base_uri": "https://localhost:8080/"
        },
        "id": "Mpp6Cluod8rF",
        "outputId": "86fef1a5-2ecf-49f0-827c-da59aabf5087"
      },
      "execution_count": null,
      "outputs": [
        {
          "output_type": "execute_result",
          "data": {
            "text/plain": [
              "torch.Size([10000, 28, 28])"
            ]
          },
          "metadata": {},
          "execution_count": 153
        }
      ]
    },
    {
      "cell_type": "code",
      "source": [
        "# Find unique targets\n",
        "np.unique(train_data.targets, return_counts= True)"
      ],
      "metadata": {
        "colab": {
          "base_uri": "https://localhost:8080/"
        },
        "id": "EnVMczyMePhi",
        "outputId": "4a25a5f7-824b-40b0-d20d-eb4814279d66"
      },
      "execution_count": null,
      "outputs": [
        {
          "output_type": "execute_result",
          "data": {
            "text/plain": [
              "(array([0, 1, 2, 3, 4, 5, 6, 7, 8, 9]),\n",
              " array([6000, 6000, 6000, 6000, 6000, 6000, 6000, 6000, 6000, 6000]))"
            ]
          },
          "metadata": {},
          "execution_count": 154
        }
      ]
    },
    {
      "cell_type": "markdown",
      "source": [
        "## Dataloader"
      ],
      "metadata": {
        "id": "3i48FtcrgxzR"
      }
    },
    {
      "cell_type": "code",
      "source": [
        "from torch.utils.data import DataLoader"
      ],
      "metadata": {
        "id": "z_xh-zdcgzc8"
      },
      "execution_count": null,
      "outputs": []
    },
    {
      "cell_type": "code",
      "source": [
        "# batch size 150 for train and twst\n",
        "train_Dloader = DataLoader(dataset = subset,\n",
        "                           batch_size = 150)\n",
        "\n",
        "test_Dloader = DataLoader(dataset = test_data,\n",
        "                          batch_size = 150)"
      ],
      "metadata": {
        "id": "NVipdEMZha1S"
      },
      "execution_count": null,
      "outputs": []
    },
    {
      "cell_type": "code",
      "source": [
        "len(test_Dloader)"
      ],
      "metadata": {
        "colab": {
          "base_uri": "https://localhost:8080/"
        },
        "id": "lP0h7x58iD_J",
        "outputId": "cd60dbd0-9df1-42e3-fb0e-f577dbadcd0e"
      },
      "execution_count": null,
      "outputs": [
        {
          "output_type": "execute_result",
          "data": {
            "text/plain": [
              "67"
            ]
          },
          "metadata": {},
          "execution_count": 157
        }
      ]
    },
    {
      "cell_type": "markdown",
      "source": [
        "## Visualization"
      ],
      "metadata": {
        "id": "VlE3yvdwjLdf"
      }
    },
    {
      "cell_type": "code",
      "source": [
        "labels = [\n",
        "    \"T-shirt/top\",\n",
        "    \"Trouser\",\n",
        "    \"Pullover\",\n",
        "    \"Dress\",\n",
        "    \"Coat\",\n",
        "    \"Sandal\",\n",
        "    \"Shirt\",\n",
        "    \"Sneaker\",\n",
        "    \"Bag\",\n",
        "    \"Ankle boot\"\n",
        "]\n",
        "\n",
        "#Visualize function of label\n",
        "def fashionShow(index):\n",
        "  plt.imshow(train_data.data[index], cmap = \"Greys\")\n",
        "  print(labels[train_data[index][1]])"
      ],
      "metadata": {
        "id": "vswf3EWdiMhk"
      },
      "execution_count": null,
      "outputs": []
    },
    {
      "cell_type": "code",
      "source": [
        "fashionShow(3)"
      ],
      "metadata": {
        "colab": {
          "base_uri": "https://localhost:8080/",
          "height": 447
        },
        "id": "Gn2S5QZIjjTi",
        "outputId": "294c6777-78a9-4796-cb1a-e7b6b01362c3"
      },
      "execution_count": null,
      "outputs": [
        {
          "output_type": "stream",
          "name": "stdout",
          "text": [
            "Dress\n"
          ]
        },
        {
          "output_type": "display_data",
          "data": {
            "text/plain": [
              "<Figure size 640x480 with 1 Axes>"
            ],
            "image/png": "[encoded data removed]"
          },
          "metadata": {}
        }
      ]
    },
    {
      "cell_type": "markdown",
      "source": [
        "## CNN"
      ],
      "metadata": {
        "id": "quvQ9Rjlkj_l"
      }
    },
    {
      "cell_type": "code",
      "source": [
        "import torch\n",
        "from torch import nn"
      ],
      "metadata": {
        "id": "TSLKZI4mm7-j"
      },
      "execution_count": null,
      "outputs": []
    },
    {
      "cell_type": "code",
      "source": [
        "class fashionConvNet(nn.Module):\n",
        "  def __init__(self):\n",
        "    super().__init__()\n",
        "\n",
        "    self.conv1 = nn.Sequential(\n",
        "        nn.Conv2d(in_channels = 1,\n",
        "                  out_channels = 32,\n",
        "                  kernel_size = 2,\n",
        "                  padding = 'same'),\n",
        "        nn.BatchNorm2d(num_features = 32),\n",
        "        nn.ReLU(),\n",
        "        nn.MaxPool2d(kernel_size = 2)\n",
        "    )\n",
        "\n",
        "    self.conv2 = nn.Sequential(\n",
        "        nn.Conv2d(in_channels = 32,\n",
        "                  out_channels = 64,\n",
        "                  kernel_size = 5),\n",
        "        nn.BatchNorm2d(num_features = 64),\n",
        "        nn.ReLU(),\n",
        "        nn.MaxPool2d(kernel_size = 2)\n",
        "    )\n",
        "\n",
        "    self.flatten = nn.Flatten()\n",
        "\n",
        "    self.fc1 = nn.Linear(\n",
        "        in_features = 64*5*5,\n",
        "        out_features = 512)\n",
        "    self.drop1 = nn.Dropout2d(p = 0.3)\n",
        "\n",
        "    self.fc2 = nn.Linear(\n",
        "        in_features = 512,\n",
        "        out_features = 128)\n",
        "    self.drop2 = nn.Dropout2d(p = 0.2)\n",
        "\n",
        "    # batch normalization & output layer\n",
        "    self.batchNorm = nn. BatchNorm1d (num_features = 128)\n",
        "    self.fc3 = nn.Linear(\n",
        "    in_features = 128,\n",
        "    out_features = 10)\n",
        "\n",
        "  def forward(self, x):\n",
        "    out = self.conv1(x)\n",
        "    out = self.conv2(out)\n",
        "    out = self.flatten(out)\n",
        "\n",
        "    out = self.fc1(out)\n",
        "    out = self.drop1(out)\n",
        "    out = self.fc2(out)\n",
        "    out = self.drop2(out)\n",
        "    out = self.batchNorm(out)\n",
        "    out = self.fc3(out)\n",
        "\n",
        "    return out\n",
        "\n",
        "\n",
        "convModel = fashionConvNet()\n",
        "print(convModel)"
      ],
      "metadata": {
        "colab": {
          "base_uri": "https://localhost:8080/"
        },
        "id": "c9178I8-kjUU",
        "outputId": "2261aa14-0ecc-496b-ca22-2db92190d13f"
      },
      "execution_count": null,
      "outputs": [
        {
          "output_type": "stream",
          "name": "stdout",
          "text": [
            "fashionConvNet(\n",
            "  (conv1): Sequential(\n",
            "    (0): Conv2d(1, 32, kernel_size=(2, 2), stride=(1, 1), padding=same)\n",
            "    (1): BatchNorm2d(32, eps=1e-05, momentum=0.1, affine=True, track_running_stats=True)\n",
            "    (2): ReLU()\n",
            "    (3): MaxPool2d(kernel_size=2, stride=2, padding=0, dilation=1, ceil_mode=False)\n",
            "  )\n",
            "  (conv2): Sequential(\n",
            "    (0): Conv2d(32, 64, kernel_size=(5, 5), stride=(1, 1))\n",
            "    (1): BatchNorm2d(64, eps=1e-05, momentum=0.1, affine=True, track_running_stats=True)\n",
            "    (2): ReLU()\n",
            "    (3): MaxPool2d(kernel_size=2, stride=2, padding=0, dilation=1, ceil_mode=False)\n",
            "  )\n",
            "  (flatten): Flatten(start_dim=1, end_dim=-1)\n",
            "  (fc1): Linear(in_features=1600, out_features=512, bias=True)\n",
            "  (drop1): Dropout2d(p=0.3, inplace=False)\n",
            "  (fc2): Linear(in_features=512, out_features=128, bias=True)\n",
            "  (drop2): Dropout2d(p=0.2, inplace=False)\n",
            "  (batchNorm): BatchNorm1d(128, eps=1e-05, momentum=0.1, affine=True, track_running_stats=True)\n",
            "  (fc3): Linear(in_features=128, out_features=10, bias=True)\n",
            ")\n"
          ]
        }
      ]
    },
    {
      "cell_type": "markdown",
      "source": [
        "## loss and optimizer"
      ],
      "metadata": {
        "id": "WqBZG-GvqvUN"
      }
    },
    {
      "cell_type": "code",
      "source": [
        "# Loss function\n",
        "loss_fn = nn.CrossEntropyLoss()\n",
        "\n",
        "# Optimizer\n",
        "optimizer = torch.optim.Adam(\n",
        "    convModel.parameters(),\n",
        "    lr = 0.002\n",
        ")"
      ],
      "metadata": {
        "id": "kUJUdliVqx8Q"
      },
      "execution_count": null,
      "outputs": []
    },
    {
      "cell_type": "markdown",
      "source": [
        "## Training Function"
      ],
      "metadata": {
        "id": "KcYM2zKLsCcD"
      }
    },
    {
      "cell_type": "code",
      "source": [
        "def training_convnet(dataloader, model, loss_fn, optimizer):\n",
        "  size = len(dataloader.dataset) # 60K, since we have 60K Train images\n",
        "\n",
        "  # Sets the module in training mode\n",
        "  model.train()\n",
        "\n",
        "  for index, (image, label) in enumerate(dataloader):\n",
        "    # Loss calculation\n",
        "    pred = model(image)\n",
        "    loss = loss_fn(pred, label) # Loss calculation\n",
        "\n",
        "    # Backpropagation\n",
        "    optimizer.zero_grad() # zero out gradients in each loop\n",
        "    loss.backward()\n",
        "    optimizer.step()\n",
        "\n",
        "    # print loss and progrss of training\n",
        "    if index % 100 == 0:\n",
        "      loss = loss.item()\n",
        "      current = index * len(image)\n",
        "      print(f\"loss: {loss:.3f})\\\n",
        "      progress: {(current / size)*100:.2f}%\")"
      ],
      "metadata": {
        "id": "UvvzyWi4sMt6"
      },
      "execution_count": null,
      "outputs": []
    },
    {
      "cell_type": "markdown",
      "source": [
        "## testing function"
      ],
      "metadata": {
        "id": "MoD1-uZLuNAG"
      }
    },
    {
      "cell_type": "code",
      "source": [
        "def testing_convnet(dataloader, model):\n",
        "  size = len(dataloader.dataset)\n",
        "\n",
        "  model.eval()\n",
        "\n",
        "  correct = 0\n",
        "\n",
        "  with torch.no_grad():\n",
        "    for image, label in dataloader:\n",
        "        pred = model(image)\n",
        "\n",
        "        correct += (pred.argmax(1) == label).type(torch.float).sum().item()\n",
        "\n",
        "\n",
        "  print(f\"\\n Test Accuracy: {(correct/size)*100:.2f}%\")\n",
        "  print(f\"Calculate {(correct/size)}\")\n",
        "  return 5*round(((correct/size)*100)/5)"
      ],
      "metadata": {
        "id": "VEiu_f1gtf30"
      },
      "execution_count": null,
      "outputs": []
    },
    {
      "cell_type": "markdown",
      "source": [
        "## training & evaluation"
      ],
      "metadata": {
        "id": "JF2g5FjruQD6"
      }
    },
    {
      "cell_type": "code",
      "source": [
        "keys_dict = np.arange(0, 100, 5)"
      ],
      "metadata": {
        "id": "2De6YP_KkAzg"
      },
      "execution_count": null,
      "outputs": []
    },
    {
      "cell_type": "code",
      "source": [
        "list_correct = dict((el,0) for el in keys_dict)"
      ],
      "metadata": {
        "id": "ql48EQQLkXc1"
      },
      "execution_count": null,
      "outputs": []
    },
    {
      "cell_type": "code",
      "source": [
        "epochs = 7\n",
        "for _ in range(0,7):\n",
        "  for e in range(epochs) :\n",
        "\n",
        "    # print Epoch number\n",
        "    print(f\"\\n\\n Epoch {e+1} ---------- \\n\")\n",
        "\n",
        "    # training\n",
        "    training_convnet(train_Dloader, convModel, loss_fn, optimizer)\n",
        "\n",
        "\n",
        "    print(f\"\\n\\n Evaluate test ---------- \\n\")\n",
        "    # evaluating at the end of each epoch\n",
        "    correct_value = testing_convnet(test_Dloader, convModel)\n",
        "    print(f\"Correct value {correct_value}\")\n",
        "  list_correct[correct_value] += 1"
      ],
      "metadata": {
        "colab": {
          "base_uri": "https://localhost:8080/"
        },
        "id": "bIWag0gCuSfl",
        "outputId": "5ede412f-9121-497e-94cd-0e01344b61ec"
      },
      "execution_count": null,
      "outputs": [
        {
          "output_type": "stream",
          "name": "stdout",
          "text": [
            "\n",
            "\n",
            " Epoch 1 ---------- \n",
            "\n"
          ]
        },
        {
          "output_type": "stream",
          "name": "stderr",
          "text": [
            "/usr/local/lib/python3.10/dist-packages/torch/nn/functional.py:1374: UserWarning: dropout2d: Received a 2-D input to dropout2d, which is deprecated and will result in an error in a future release. To retain the behavior and silence this warning, please use dropout instead. Note that dropout2d exists to provide channel-wise dropout on inputs with 2 spatial dimensions, a channel dimension, and an optional batch dimension (i.e. 3D or 4D inputs).\n",
            "  warnings.warn(warn_msg)\n"
          ]
        },
        {
          "output_type": "stream",
          "name": "stdout",
          "text": [
            "loss: 2.371)      progress: 0.00%\n",
            "\n",
            "\n",
            " Evaluate test ---------- \n",
            "\n",
            "\n",
            " Test Accuracy: 22.36%\n",
            "Calculate 0.2236\n",
            "Correct value 20\n",
            "\n",
            "\n",
            " Epoch 2 ---------- \n",
            "\n",
            "loss: 1.063)      progress: 0.00%\n",
            "\n",
            "\n",
            " Evaluate test ---------- \n",
            "\n",
            "\n",
            " Test Accuracy: 37.85%\n",
            "Calculate 0.3785\n",
            "Correct value 40\n",
            "\n",
            "\n",
            " Epoch 3 ---------- \n",
            "\n",
            "loss: 0.816)      progress: 0.00%\n",
            "\n",
            "\n",
            " Evaluate test ---------- \n",
            "\n",
            "\n",
            " Test Accuracy: 46.11%\n",
            "Calculate 0.4611\n",
            "Correct value 45\n",
            "\n",
            "\n",
            " Epoch 4 ---------- \n",
            "\n",
            "loss: 0.668)      progress: 0.00%\n",
            "\n",
            "\n",
            " Evaluate test ---------- \n",
            "\n",
            "\n",
            " Test Accuracy: 47.30%\n",
            "Calculate 0.473\n",
            "Correct value 45\n",
            "\n",
            "\n",
            " Epoch 5 ---------- \n",
            "\n",
            "loss: 0.524)      progress: 0.00%\n",
            "\n",
            "\n",
            " Evaluate test ---------- \n",
            "\n",
            "\n",
            " Test Accuracy: 46.54%\n",
            "Calculate 0.4654\n",
            "Correct value 45\n",
            "\n",
            "\n",
            " Epoch 6 ---------- \n",
            "\n",
            "loss: 0.445)      progress: 0.00%\n",
            "\n",
            "\n",
            " Evaluate test ---------- \n",
            "\n",
            "\n",
            " Test Accuracy: 40.93%\n",
            "Calculate 0.4093\n",
            "Correct value 40\n",
            "\n",
            "\n",
            " Epoch 7 ---------- \n",
            "\n",
            "loss: 0.362)      progress: 0.00%\n",
            "\n",
            "\n",
            " Evaluate test ---------- \n",
            "\n",
            "\n",
            " Test Accuracy: 33.74%\n",
            "Calculate 0.3374\n",
            "Correct value 35\n",
            "\n",
            "\n",
            " Epoch 1 ---------- \n",
            "\n",
            "loss: 0.324)      progress: 0.00%\n",
            "\n",
            "\n",
            " Evaluate test ---------- \n",
            "\n",
            "\n",
            " Test Accuracy: 28.96%\n",
            "Calculate 0.2896\n",
            "Correct value 30\n",
            "\n",
            "\n",
            " Epoch 2 ---------- \n",
            "\n",
            "loss: 0.273)      progress: 0.00%\n",
            "\n",
            "\n",
            " Evaluate test ---------- \n",
            "\n",
            "\n",
            " Test Accuracy: 26.99%\n",
            "Calculate 0.2699\n",
            "Correct value 25\n",
            "\n",
            "\n",
            " Epoch 3 ---------- \n",
            "\n",
            "loss: 0.221)      progress: 0.00%\n",
            "\n",
            "\n",
            " Evaluate test ---------- \n",
            "\n",
            "\n",
            " Test Accuracy: 26.77%\n",
            "Calculate 0.2677\n",
            "Correct value 25\n",
            "\n",
            "\n",
            " Epoch 4 ---------- \n",
            "\n",
            "loss: 0.163)      progress: 0.00%\n",
            "\n",
            "\n",
            " Evaluate test ---------- \n",
            "\n",
            "\n",
            " Test Accuracy: 27.11%\n",
            "Calculate 0.2711\n",
            "Correct value 25\n",
            "\n",
            "\n",
            " Epoch 5 ---------- \n",
            "\n",
            "loss: 0.159)      progress: 0.00%\n",
            "\n",
            "\n",
            " Evaluate test ---------- \n",
            "\n",
            "\n",
            " Test Accuracy: 29.03%\n",
            "Calculate 0.2903\n",
            "Correct value 30\n",
            "\n",
            "\n",
            " Epoch 6 ---------- \n",
            "\n",
            "loss: 0.116)      progress: 0.00%\n",
            "\n",
            "\n",
            " Evaluate test ---------- \n",
            "\n",
            "\n",
            " Test Accuracy: 31.17%\n",
            "Calculate 0.3117\n",
            "Correct value 30\n",
            "\n",
            "\n",
            " Epoch 7 ---------- \n",
            "\n",
            "loss: 0.106)      progress: 0.00%\n",
            "\n",
            "\n",
            " Evaluate test ---------- \n",
            "\n",
            "\n",
            " Test Accuracy: 33.94%\n",
            "Calculate 0.3394\n",
            "Correct value 35\n",
            "\n",
            "\n",
            " Epoch 1 ---------- \n",
            "\n",
            "loss: 0.091)      progress: 0.00%\n",
            "\n",
            "\n",
            " Evaluate test ---------- \n",
            "\n",
            "\n",
            " Test Accuracy: 36.09%\n",
            "Calculate 0.3609\n",
            "Correct value 35\n",
            "\n",
            "\n",
            " Epoch 2 ---------- \n",
            "\n",
            "loss: 0.089)      progress: 0.00%\n",
            "\n",
            "\n",
            " Evaluate test ---------- \n",
            "\n",
            "\n",
            " Test Accuracy: 39.13%\n",
            "Calculate 0.3913\n",
            "Correct value 40\n",
            "\n",
            "\n",
            " Epoch 3 ---------- \n",
            "\n",
            "loss: 0.061)      progress: 0.00%\n",
            "\n",
            "\n",
            " Evaluate test ---------- \n",
            "\n",
            "\n",
            " Test Accuracy: 40.74%\n",
            "Calculate 0.4074\n",
            "Correct value 40\n",
            "\n",
            "\n",
            " Epoch 4 ---------- \n",
            "\n",
            "loss: 0.051)      progress: 0.00%\n",
            "\n",
            "\n",
            " Evaluate test ---------- \n",
            "\n",
            "\n",
            " Test Accuracy: 41.82%\n",
            "Calculate 0.4182\n",
            "Correct value 40\n",
            "\n",
            "\n",
            " Epoch 5 ---------- \n",
            "\n",
            "loss: 0.045)      progress: 0.00%\n",
            "\n",
            "\n",
            " Evaluate test ---------- \n",
            "\n",
            "\n",
            " Test Accuracy: 43.18%\n",
            "Calculate 0.4318\n",
            "Correct value 45\n",
            "\n",
            "\n",
            " Epoch 6 ---------- \n",
            "\n",
            "loss: 0.040)      progress: 0.00%\n",
            "\n",
            "\n",
            " Evaluate test ---------- \n",
            "\n",
            "\n",
            " Test Accuracy: 44.33%\n",
            "Calculate 0.4433\n",
            "Correct value 45\n",
            "\n",
            "\n",
            " Epoch 7 ---------- \n",
            "\n",
            "loss: 0.037)      progress: 0.00%\n",
            "\n",
            "\n",
            " Evaluate test ---------- \n",
            "\n",
            "\n",
            " Test Accuracy: 46.03%\n",
            "Calculate 0.4603\n",
            "Correct value 45\n",
            "\n",
            "\n",
            " Epoch 1 ---------- \n",
            "\n",
            "loss: 0.032)      progress: 0.00%\n",
            "\n",
            "\n",
            " Evaluate test ---------- \n",
            "\n",
            "\n",
            " Test Accuracy: 48.35%\n",
            "Calculate 0.4835\n",
            "Correct value 50\n",
            "\n",
            "\n",
            " Epoch 2 ---------- \n",
            "\n",
            "loss: 0.023)      progress: 0.00%\n",
            "\n",
            "\n",
            " Evaluate test ---------- \n",
            "\n",
            "\n",
            " Test Accuracy: 50.66%\n",
            "Calculate 0.5066\n",
            "Correct value 50\n",
            "\n",
            "\n",
            " Epoch 3 ---------- \n",
            "\n",
            "loss: 0.024)      progress: 0.00%\n",
            "\n",
            "\n",
            " Evaluate test ---------- \n",
            "\n",
            "\n",
            " Test Accuracy: 53.11%\n",
            "Calculate 0.5311\n",
            "Correct value 55\n",
            "\n",
            "\n",
            " Epoch 4 ---------- \n",
            "\n",
            "loss: 0.020)      progress: 0.00%\n",
            "\n",
            "\n",
            " Evaluate test ---------- \n",
            "\n",
            "\n",
            " Test Accuracy: 55.19%\n",
            "Calculate 0.5519\n",
            "Correct value 55\n",
            "\n",
            "\n",
            " Epoch 5 ---------- \n",
            "\n",
            "loss: 0.020)      progress: 0.00%\n",
            "\n",
            "\n",
            " Evaluate test ---------- \n",
            "\n",
            "\n",
            " Test Accuracy: 57.13%\n",
            "Calculate 0.5713\n",
            "Correct value 55\n",
            "\n",
            "\n",
            " Epoch 6 ---------- \n",
            "\n",
            "loss: 0.017)      progress: 0.00%\n",
            "\n",
            "\n",
            " Evaluate test ---------- \n",
            "\n",
            "\n",
            " Test Accuracy: 58.43%\n",
            "Calculate 0.5843\n",
            "Correct value 60\n",
            "\n",
            "\n",
            " Epoch 7 ---------- \n",
            "\n",
            "loss: 0.015)      progress: 0.00%\n",
            "\n",
            "\n",
            " Evaluate test ---------- \n",
            "\n",
            "\n",
            " Test Accuracy: 60.11%\n",
            "Calculate 0.6011\n",
            "Correct value 60\n",
            "\n",
            "\n",
            " Epoch 1 ---------- \n",
            "\n",
            "loss: 0.014)      progress: 0.00%\n",
            "\n",
            "\n",
            " Evaluate test ---------- \n",
            "\n",
            "\n",
            " Test Accuracy: 61.51%\n",
            "Calculate 0.6151\n",
            "Correct value 60\n",
            "\n",
            "\n",
            " Epoch 2 ---------- \n",
            "\n",
            "loss: 0.012)      progress: 0.00%\n",
            "\n",
            "\n",
            " Evaluate test ---------- \n",
            "\n",
            "\n",
            " Test Accuracy: 62.28%\n",
            "Calculate 0.6228\n",
            "Correct value 60\n",
            "\n",
            "\n",
            " Epoch 3 ---------- \n",
            "\n",
            "loss: 0.011)      progress: 0.00%\n",
            "\n",
            "\n",
            " Evaluate test ---------- \n",
            "\n",
            "\n",
            " Test Accuracy: 62.97%\n",
            "Calculate 0.6297\n",
            "Correct value 65\n",
            "\n",
            "\n",
            " Epoch 4 ---------- \n",
            "\n",
            "loss: 0.011)      progress: 0.00%\n",
            "\n",
            "\n",
            " Evaluate test ---------- \n",
            "\n",
            "\n",
            " Test Accuracy: 63.62%\n",
            "Calculate 0.6362\n",
            "Correct value 65\n",
            "\n",
            "\n",
            " Epoch 5 ---------- \n",
            "\n",
            "loss: 0.011)      progress: 0.00%\n",
            "\n",
            "\n",
            " Evaluate test ---------- \n",
            "\n",
            "\n",
            " Test Accuracy: 64.28%\n",
            "Calculate 0.6428\n",
            "Correct value 65\n",
            "\n",
            "\n",
            " Epoch 6 ---------- \n",
            "\n",
            "loss: 0.009)      progress: 0.00%\n",
            "\n",
            "\n",
            " Evaluate test ---------- \n",
            "\n",
            "\n",
            " Test Accuracy: 65.02%\n",
            "Calculate 0.6502\n",
            "Correct value 65\n",
            "\n",
            "\n",
            " Epoch 7 ---------- \n",
            "\n",
            "loss: 0.010)      progress: 0.00%\n",
            "\n",
            "\n",
            " Evaluate test ---------- \n",
            "\n",
            "\n",
            " Test Accuracy: 65.49%\n",
            "Calculate 0.6549\n",
            "Correct value 65\n",
            "\n",
            "\n",
            " Epoch 1 ---------- \n",
            "\n",
            "loss: 0.008)      progress: 0.00%\n",
            "\n",
            "\n",
            " Evaluate test ---------- \n",
            "\n",
            "\n",
            " Test Accuracy: 66.04%\n",
            "Calculate 0.6604\n",
            "Correct value 65\n",
            "\n",
            "\n",
            " Epoch 2 ---------- \n",
            "\n",
            "loss: 0.007)      progress: 0.00%\n",
            "\n",
            "\n",
            " Evaluate test ---------- \n",
            "\n",
            "\n",
            " Test Accuracy: 66.36%\n",
            "Calculate 0.6636\n",
            "Correct value 65\n",
            "\n",
            "\n",
            " Epoch 3 ---------- \n",
            "\n",
            "loss: 0.007)      progress: 0.00%\n",
            "\n",
            "\n",
            " Evaluate test ---------- \n",
            "\n",
            "\n",
            " Test Accuracy: 66.89%\n",
            "Calculate 0.6689\n",
            "Correct value 65\n",
            "\n",
            "\n",
            " Epoch 4 ---------- \n",
            "\n",
            "loss: 0.007)      progress: 0.00%\n",
            "\n",
            "\n",
            " Evaluate test ---------- \n",
            "\n",
            "\n",
            " Test Accuracy: 67.29%\n",
            "Calculate 0.6729\n",
            "Correct value 65\n",
            "\n",
            "\n",
            " Epoch 5 ---------- \n",
            "\n",
            "loss: 0.007)      progress: 0.00%\n",
            "\n",
            "\n",
            " Evaluate test ---------- \n",
            "\n",
            "\n",
            " Test Accuracy: 67.65%\n",
            "Calculate 0.6765\n",
            "Correct value 70\n",
            "\n",
            "\n",
            " Epoch 6 ---------- \n",
            "\n",
            "loss: 0.007)      progress: 0.00%\n",
            "\n",
            "\n",
            " Evaluate test ---------- \n",
            "\n",
            "\n",
            " Test Accuracy: 67.95%\n",
            "Calculate 0.6795\n",
            "Correct value 70\n",
            "\n",
            "\n",
            " Epoch 7 ---------- \n",
            "\n",
            "loss: 0.006)      progress: 0.00%\n",
            "\n",
            "\n",
            " Evaluate test ---------- \n",
            "\n",
            "\n",
            " Test Accuracy: 68.19%\n",
            "Calculate 0.6819\n",
            "Correct value 70\n",
            "\n",
            "\n",
            " Epoch 1 ---------- \n",
            "\n",
            "loss: 0.005)      progress: 0.00%\n",
            "\n",
            "\n",
            " Evaluate test ---------- \n",
            "\n",
            "\n",
            " Test Accuracy: 68.40%\n",
            "Calculate 0.684\n",
            "Correct value 70\n",
            "\n",
            "\n",
            " Epoch 2 ---------- \n",
            "\n",
            "loss: 0.006)      progress: 0.00%\n",
            "\n",
            "\n",
            " Evaluate test ---------- \n",
            "\n",
            "\n",
            " Test Accuracy: 68.71%\n",
            "Calculate 0.6871\n",
            "Correct value 70\n",
            "\n",
            "\n",
            " Epoch 3 ---------- \n",
            "\n",
            "loss: 0.005)      progress: 0.00%\n",
            "\n",
            "\n",
            " Evaluate test ---------- \n",
            "\n",
            "\n",
            " Test Accuracy: 68.83%\n",
            "Calculate 0.6883\n",
            "Correct value 70\n",
            "\n",
            "\n",
            " Epoch 4 ---------- \n",
            "\n",
            "loss: 0.005)      progress: 0.00%\n",
            "\n",
            "\n",
            " Evaluate test ---------- \n",
            "\n",
            "\n",
            " Test Accuracy: 69.08%\n",
            "Calculate 0.6908\n",
            "Correct value 70\n",
            "\n",
            "\n",
            " Epoch 5 ---------- \n",
            "\n",
            "loss: 0.005)      progress: 0.00%\n",
            "\n",
            "\n",
            " Evaluate test ---------- \n",
            "\n",
            "\n",
            " Test Accuracy: 69.22%\n",
            "Calculate 0.6922\n",
            "Correct value 70\n",
            "\n",
            "\n",
            " Epoch 6 ---------- \n",
            "\n",
            "loss: 0.004)      progress: 0.00%\n",
            "\n",
            "\n",
            " Evaluate test ---------- \n",
            "\n",
            "\n",
            " Test Accuracy: 69.39%\n",
            "Calculate 0.6939\n",
            "Correct value 70\n",
            "\n",
            "\n",
            " Epoch 7 ---------- \n",
            "\n",
            "loss: 0.004)      progress: 0.00%\n",
            "\n",
            "\n",
            " Evaluate test ---------- \n",
            "\n",
            "\n",
            " Test Accuracy: 69.58%\n",
            "Calculate 0.6958\n",
            "Correct value 70\n"
          ]
        }
      ]
    },
    {
      "cell_type": "code",
      "source": [
        "import matplotlib.pyplot as plt\n",
        "\n",
        "\n",
        "plt.bar(range(len(list_correct)), list(list_correct.values()), align='center')\n",
        "plt.xticks(range(len(list_correct)), list(list_correct.keys()))\n",
        "# # for python 2.x:\n",
        "# plt.bar(range(len(D)), D.values(), align='center')  # python 2.x\n",
        "# plt.xticks(range(len(D)), D.keys())  # in python 2.x\n",
        "\n",
        "plt.show()"
      ],
      "metadata": {
        "colab": {
          "base_uri": "https://localhost:8080/",
          "height": 430
        },
        "id": "89H37sr0Mb1o",
        "outputId": "ffa7361d-48a4-45ea-da79-8c1cdc89322d"
      },
      "execution_count": null,
      "outputs": [
        {
          "output_type": "display_data",
          "data": {
            "text/plain": [
              "<Figure size 640x480 with 1 Axes>"
            ],
            "image/png": "[encoded data removed]"
          },
          "metadata": {}
        }
      ]
    },
    {
      "cell_type": "code",
      "source": [
        "import matplotlib.pylab as plt\n",
        "\n",
        "lists = sorted(list_correct.items()) # sorted by key, return a list of tuples\n",
        "\n",
        "x, y = zip(*lists) # unpack a list of pairs into two tuples\n",
        "\n",
        "plt.plot(x, y)\n",
        "plt.show()"
      ],
      "metadata": {
        "colab": {
          "base_uri": "https://localhost:8080/",
          "height": 430
        },
        "id": "VitMycl5sbNt",
        "outputId": "424e1182-806d-47a3-da31-9ca1bab666f5"
      },
      "execution_count": null,
      "outputs": [
        {
          "output_type": "display_data",
          "data": {
            "text/plain": [
              "<Figure size 640x480 with 1 Axes>"
            ],
            "image/png": "[encoded data removed]"
          },
          "metadata": {}
        }
      ]
    },
    {
      "cell_type": "code",
      "source": [
        "n = [10, 50, 100, 200, 400]"
      ],
      "metadata": {
        "id": "kzKuUzn72DHr"
      },
      "execution_count": null,
      "outputs": []
    },
    {
      "cell_type": "code",
      "source": [
        "#\n",
        "# Draw the Hoeffding's Inequality with different epsilons, 0.1, 0.3, 0.5, and 1.\n",
        "#\n",
        "\n",
        "from scipy import signal\n",
        "import numpy as np\n",
        "import math\n",
        "\n",
        "def hoeffding (x, epsilon):\n",
        "\ty = 2.0 * math.exp (-2*epsilon*epsilon*x)\n",
        "\treturn y\n",
        "\n",
        "#x = np.arange (0, 100, 0.01)\n",
        "x = np.arange (0, 10, 0.01)\n",
        "\n",
        "y1 = [hoeffding (x, 0.1) for x in x]\n",
        "y2 = [hoeffding (x, 0.3) for x in x]\n",
        "y3 = [hoeffding (x, 0.5) for x in x]\n",
        "y4 = [hoeffding (x, 1) for x in x]\n",
        "\n",
        "import matplotlib.pyplot as plt\n",
        "\n",
        "plt.xlabel ('N')\n",
        "plt.ylabel ('P')\n",
        "latex1 = r'P\\leq2e^{\\left( -2\\varepsilon ^{2}N\\right)}'\n",
        "plt.title (r\"Hoeffding's Inequality: $ %s $\" % latex1)\n",
        "\n",
        "latext2 = r'\\varepsilon'\n",
        "plt.plot (x, y1, label=r'$%s$ = 0.1' % latext2)\n",
        "plt.plot (x, y2, label='$%s$ = 0.3' % latext2)\n",
        "plt.plot (x, y3, label='$%s$ = 0.5' % latext2)\n",
        "plt.plot (x, y4, label='$%s$ = 1' % latext2)\n",
        "\n",
        "plt.legend ()\n",
        "plt.show ()"
      ],
      "metadata": {
        "colab": {
          "base_uri": "https://localhost:8080/",
          "height": 479
        },
        "id": "aoMGxURe0BPy",
        "outputId": "a9d9080c-7770-4d81-8d69-ca5f94b8354c"
      },
      "execution_count": null,
      "outputs": [
        {
          "output_type": "display_data",
          "data": {
            "text/plain": [
              "<Figure size 640x480 with 1 Axes>"
            ],
            "image/png": "[encoded data removed]"
          },
          "metadata": {}
        }
      ]
    },
    {
      "cell_type": "code",
      "source": [
        "from scipy import signal\n",
        "import numpy as np\n",
        "import math\n",
        "\n",
        "epsilon = 0.5\n",
        "\n",
        "y = 2.0 * math.exp (-2*epsilon*epsilon*x)"
      ],
      "metadata": {
        "id": "o8setA-WkDA8"
      },
      "execution_count": null,
      "outputs": []
    }
  ]
}